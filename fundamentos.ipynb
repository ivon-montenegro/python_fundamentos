{
 "cells": [
  {
   "cell_type": "code",
   "execution_count": 2,
   "metadata": {},
   "outputs": [
    {
     "name": "stdout",
     "output_type": "stream",
     "text": [
      "Hola\n"
     ]
    }
   ],
   "source": [
    "print(\"Hola\")"
   ]
  },
  {
   "cell_type": "markdown",
   "metadata": {},
   "source": [
    "### Fundamentos de python\n",
    "* Variables\n",
    "* Operadores matemáticos\n",
    "* Operadores Lógicos\n",
    "* Operadores de comparación\n",
    "* Estructuras de control\n",
    "    - Condicionales simples\n",
    "    - Condicionales anidados\n",
    "    - Condicionales encadenados\n",
    "    - Ciclos finitos\n",
    "    - Ciclos infinitos\n",
    "* Funciones\n",
    "* Estructuras de datos\n",
    "    - Cadenas de caracteres \n",
    "    - Listas\n",
    "    - Tuplas\n",
    "    - Diccionarios\n"
   ]
  },
  {
   "cell_type": "markdown",
   "metadata": {},
   "source": [
    "### Variables"
   ]
  },
  {
   "cell_type": "code",
   "execution_count": 4,
   "metadata": {},
   "outputs": [
    {
     "data": {
      "text/plain": [
       "'josefino'"
      ]
     },
     "execution_count": 4,
     "metadata": {},
     "output_type": "execute_result"
    }
   ],
   "source": [
    "name = \"josefino\"\n",
    "name\n"
   ]
  },
  {
   "cell_type": "code",
   "execution_count": 5,
   "metadata": {},
   "outputs": [],
   "source": [
    "lastname = 'primero'"
   ]
  },
  {
   "cell_type": "code",
   "execution_count": 1,
   "metadata": {},
   "outputs": [],
   "source": [
    "last_name = \"primero\""
   ]
  },
  {
   "cell_type": "code",
   "execution_count": 9,
   "metadata": {},
   "outputs": [
    {
     "ename": "SyntaxError",
     "evalue": "cannot assign to expression here. Maybe you meant '==' instead of '='? (906108882.py, line 1)",
     "output_type": "error",
     "traceback": [
      "\u001b[1;36m  Cell \u001b[1;32mIn[9], line 1\u001b[1;36m\u001b[0m\n\u001b[1;33m    last-name = \"primero\"\u001b[0m\n\u001b[1;37m    ^\u001b[0m\n\u001b[1;31mSyntaxError\u001b[0m\u001b[1;31m:\u001b[0m cannot assign to expression here. Maybe you meant '==' instead of '='?\n"
     ]
    }
   ],
   "source": [
    "last-name = \"primero\""
   ]
  },
  {
   "cell_type": "code",
   "execution_count": 10,
   "metadata": {},
   "outputs": [
    {
     "ename": "NameError",
     "evalue": "name 'last' is not defined",
     "output_type": "error",
     "traceback": [
      "\u001b[1;31m---------------------------------------------------------------------------\u001b[0m",
      "\u001b[1;31mNameError\u001b[0m                                 Traceback (most recent call last)",
      "Cell \u001b[1;32mIn[10], line 1\u001b[0m\n\u001b[1;32m----> 1\u001b[0m \u001b[43mlast\u001b[49m\u001b[38;5;241m.\u001b[39mname \u001b[38;5;241m=\u001b[39m \u001b[38;5;124m\"\u001b[39m\u001b[38;5;124mprimero\u001b[39m\u001b[38;5;124m\"\u001b[39m\n",
      "\u001b[1;31mNameError\u001b[0m: name 'last' is not defined"
     ]
    }
   ],
   "source": [
    "last.name = \"primero\""
   ]
  },
  {
   "cell_type": "code",
   "execution_count": 12,
   "metadata": {},
   "outputs": [],
   "source": [
    "LastName = \"primero2\""
   ]
  },
  {
   "cell_type": "code",
   "execution_count": 13,
   "metadata": {},
   "outputs": [
    {
     "data": {
      "text/plain": [
       "'primero2'"
      ]
     },
     "execution_count": 13,
     "metadata": {},
     "output_type": "execute_result"
    }
   ],
   "source": [
    "last_name\n",
    "LastName"
   ]
  },
  {
   "cell_type": "code",
   "execution_count": 14,
   "metadata": {},
   "outputs": [],
   "source": [
    "lastName=\"primero3\""
   ]
  },
  {
   "cell_type": "code",
   "execution_count": 16,
   "metadata": {},
   "outputs": [
    {
     "data": {
      "text/plain": [
       "230"
      ]
     },
     "execution_count": 16,
     "metadata": {},
     "output_type": "execute_result"
    }
   ],
   "source": [
    "qwert = 23\n",
    "asdfg = 10\n",
    "zxcvb = qwert * asdfg\n",
    "\n",
    "zxcvb"
   ]
  },
  {
   "cell_type": "code",
   "execution_count": 17,
   "metadata": {},
   "outputs": [
    {
     "data": {
      "text/plain": [
       "230"
      ]
     },
     "execution_count": 17,
     "metadata": {},
     "output_type": "execute_result"
    }
   ],
   "source": [
    "base = 23\n",
    "height = 10\n",
    "\n",
    "area=base * height\n",
    "area"
   ]
  },
  {
   "cell_type": "code",
   "execution_count": 24,
   "metadata": {},
   "outputs": [
    {
     "name": "stdout",
     "output_type": "stream",
     "text": [
      "Área: 230\n",
      "Apellido: primero\n",
      "Base del Triángulo: 23\n"
     ]
    }
   ],
   "source": [
    "print(\"Área:\", area)\n",
    "print(\"Apellido:\", last_name)\n",
    "print(\"Base del Triángulo:\", base)"
   ]
  },
  {
   "cell_type": "markdown",
   "metadata": {},
   "source": [
    "### Operadores Matemáticos básicos"
   ]
  },
  {
   "cell_type": "code",
   "execution_count": 32,
   "metadata": {},
   "outputs": [
    {
     "name": "stdout",
     "output_type": "stream",
     "text": [
      "El Resultado de la suma es: 30\n"
     ]
    }
   ],
   "source": [
    "# suma\n",
    "number_1 = 10\n",
    "number_2 = 20\n",
    "result = number_1 + number_2\n",
    "print(\"El Resultado de la suma es:\", result)"
   ]
  },
  {
   "cell_type": "code",
   "execution_count": 31,
   "metadata": {},
   "outputs": [
    {
     "name": "stdout",
     "output_type": "stream",
     "text": [
      "El Resultado de la resta es: -10\n"
     ]
    }
   ],
   "source": [
    "# resta\n",
    "number_1 = 10\n",
    "number_2 = 20\n",
    "result = number_1 - number_2\n",
    "print(\"El Resultado de la resta es:\", result)"
   ]
  },
  {
   "cell_type": "code",
   "execution_count": 33,
   "metadata": {},
   "outputs": [
    {
     "name": "stdout",
     "output_type": "stream",
     "text": [
      "El Resultado de la multiplicación es: 200\n"
     ]
    }
   ],
   "source": [
    "# multiplicación\n",
    "number_1 = 10\n",
    "number_2 = 20\n",
    "result = number_1 * number_2\n",
    "print(\"El Resultado de la multiplicación es:\", result)"
   ]
  },
  {
   "cell_type": "code",
   "execution_count": 34,
   "metadata": {},
   "outputs": [
    {
     "name": "stdout",
     "output_type": "stream",
     "text": [
      "El Resultado de la división es: 0.5\n"
     ]
    }
   ],
   "source": [
    "# división\n",
    "number_1 = 10\n",
    "number_2 = 20\n",
    "result = number_1 / number_2\n",
    "print(\"El Resultado de la división es:\", result)"
   ]
  },
  {
   "cell_type": "code",
   "execution_count": 39,
   "metadata": {},
   "outputs": [
    {
     "name": "stdout",
     "output_type": "stream",
     "text": [
      "<class 'str'>\n",
      "<class 'int'>\n",
      "<class 'float'>\n"
     ]
    }
   ],
   "source": [
    "print( type(last_name) )\n",
    "print( type(number_1) )\n",
    "print( type(result) )"
   ]
  },
  {
   "cell_type": "code",
   "execution_count": 40,
   "metadata": {},
   "outputs": [
    {
     "data": {
      "text/plain": [
       "20"
      ]
     },
     "execution_count": 40,
     "metadata": {},
     "output_type": "execute_result"
    }
   ],
   "source": [
    "number_2"
   ]
  },
  {
   "cell_type": "markdown",
   "metadata": {},
   "source": [
    "### Estructuras de Control"
   ]
  },
  {
   "cell_type": "code",
   "execution_count": 1,
   "metadata": {},
   "outputs": [],
   "source": [
    "name = \"pablo\"\n",
    "age = 16\n"
   ]
  },
  {
   "cell_type": "code",
   "execution_count": null,
   "metadata": {},
   "outputs": [],
   "source": [
    "# if condicion:\n",
    "# print (\"saludos\")"
   ]
  },
  {
   "cell_type": "code",
   "execution_count": 3,
   "metadata": {},
   "outputs": [
    {
     "name": "stdout",
     "output_type": "stream",
     "text": [
      "puedes pasar\n"
     ]
    }
   ],
   "source": [
    "# condicional simple\n",
    "if (age > 15):\n",
    "    print(\"puedes pasar\")"
   ]
  },
  {
   "cell_type": "code",
   "execution_count": null,
   "metadata": {},
   "outputs": [],
   "source": [
    "# operadores de comparación\n",
    "# mayor que >\n",
    "# menor que <\n",
    "# mayor igual >=\n",
    "# menor igual <=\n",
    "# igual ==\n",
    "# diferente !="
   ]
  },
  {
   "cell_type": "code",
   "execution_count": 12,
   "metadata": {},
   "outputs": [
    {
     "name": "stdout",
     "output_type": "stream",
     "text": [
      "puedes pasar josefino\n"
     ]
    }
   ],
   "source": [
    "# condicional simple\n",
    "\n",
    "name = input(\"Ingrese su nombre: \")\n",
    "age  = input(\"Ingrese su edad: \")\n",
    "#age  = int(age)\n",
    "age  = float(age)\n",
    "\n",
    "if (age > 15):\n",
    "    print(\"puedes pasar\", name)"
   ]
  },
  {
   "cell_type": "code",
   "execution_count": 11,
   "metadata": {},
   "outputs": [
    {
     "data": {
      "text/plain": [
       "str"
      ]
     },
     "execution_count": 11,
     "metadata": {},
     "output_type": "execute_result"
    }
   ],
   "source": [
    "type(name)\n",
    "\n",
    "type(age)"
   ]
  },
  {
   "cell_type": "code",
   "execution_count": null,
   "metadata": {},
   "outputs": [],
   "source": [
    "# Operadores lógicos\n",
    "# and\n",
    "# or\n",
    "# not"
   ]
  },
  {
   "cell_type": "code",
   "execution_count": 14,
   "metadata": {},
   "outputs": [],
   "source": [
    "# condicional simple\n",
    "\n",
    "name = input(\"Ingrese su nombre: \")\n",
    "age  = int (input (\"Ingrese su edad: \"))\n",
    "#age  = int(age)\n",
    "day  = input(\"Ingrese el día de la semana: \")\n",
    "\n",
    "if (age > 15):\n",
    "    if day == \"sabado\": \n",
    "        print(\"puedes pasar\", name)"
   ]
  },
  {
   "cell_type": "code",
   "execution_count": 16,
   "metadata": {},
   "outputs": [
    {
     "ename": "SyntaxError",
     "evalue": "expected ':' (1494426916.py, line 10)",
     "output_type": "error",
     "traceback": [
      "\u001b[1;36m  Cell \u001b[1;32mIn[16], line 10\u001b[1;36m\u001b[0m\n\u001b[1;33m    else\u001b[0m\n\u001b[1;37m         ^\u001b[0m\n\u001b[1;31mSyntaxError\u001b[0m\u001b[1;31m:\u001b[0m expected ':'\n"
     ]
    }
   ],
   "source": [
    "# condicional simple\n",
    "\n",
    "name = input(\"Ingrese su nombre: \")\n",
    "age  = int (input (\"Ingrese su edad: \"))\n",
    "#age  = int(age)\n",
    "day  = input(\"Ingrese el día de la semana: \")\n",
    "\n",
    "if (age > 15) and (day == \"sabado\"): \n",
    "    print(\"puedes pasar\", name)"
   ]
  },
  {
   "cell_type": "code",
   "execution_count": 18,
   "metadata": {},
   "outputs": [
    {
     "name": "stdout",
     "output_type": "stream",
     "text": [
      "No puedes pasar petra\n"
     ]
    }
   ],
   "source": [
    "# condicional simple\n",
    "\n",
    "name = input(\"Ingrese su nombre: \")\n",
    "age  = int (input (\"Ingrese su edad: \"))\n",
    "#age  = int(age)\n",
    "day  = input(\"Ingrese el día de la semana: \")\n",
    "\n",
    "if (age > 15) and (day == \"sabado\" or day==\"viernes\"): \n",
    "    print(\"puedes pasar\", name)\n",
    "else:\n",
    "    print(\"No puedes pasar\", name)"
   ]
  },
  {
   "cell_type": "code",
   "execution_count": null,
   "metadata": {},
   "outputs": [],
   "source": [
    "# condicional simple\n",
    "\n",
    "name = input(\"Ingrese su nombre: \")\n",
    "age  = int (input (\"Ingrese su edad: \"))\n",
    "#age  = int(age)\n",
    "day  = input(\"Ingrese el día de la semana: \")\n",
    "\n",
    "if (age > 15): \n",
    "    if (day == \"sabado\") or (day==\"viernes\"): \n",
    "        print(\"puedes pasar\", name)\n",
    "else:\n",
    "    print(\"No puedes pasar\", name)"
   ]
  },
  {
   "cell_type": "code",
   "execution_count": null,
   "metadata": {},
   "outputs": [],
   "source": [
    "# condicional simple\n",
    "\n",
    "name = input(\"Ingrese su nombre: \")\n",
    "age  = int (input (\"Ingrese su edad: \"))\n",
    "#age  = int(age)\n",
    "day  = input(\"Ingrese el día de la semana: \")\n",
    "\n",
    "if (age > 15): \n",
    "    print(\"puedes pasar\", name)\n",
    "    # if (day == \"sabado\") or (day==\"viernes\"): \n",
    "    #   print(\"puedes pasar\", name)\n",
    "else:\n",
    "    print(\"No puedes pasar\", name)\n",
    "\n"
   ]
  },
  {
   "cell_type": "code",
   "execution_count": 19,
   "metadata": {},
   "outputs": [
    {
     "name": "stdout",
     "output_type": "stream",
     "text": [
      "Menor de 15\n"
     ]
    }
   ],
   "source": [
    "# condicional simple\n",
    "\n",
    "name = input(\"Ingrese su nombre: \")\n",
    "age  = int (input (\"Ingrese su edad: \"))\n",
    "#age  = int(age)\n",
    "day  = input(\"Ingrese el día de la semana: \")\n",
    "\n",
    "if (age > 15): \n",
    "    if (day == \"sabado\") or (day==\"viernes\"): \n",
    "        print(\"puedes pasar\", name)\n",
    "    else:\n",
    "        print(\"No es sábado ni viernes\", name)\n",
    "else:\n",
    "    print(\"Menor de 15\")"
   ]
  },
  {
   "cell_type": "code",
   "execution_count": null,
   "metadata": {},
   "outputs": [],
   "source": [
    "# condicional simple\n",
    "\n",
    "name = input(\"Ingrese su nombre: \")\n",
    "age  = int (input (\"Ingrese su edad: \"))\n",
    "#age  = int(age)\n",
    "\n",
    "if (age > 15): \n",
    "\n",
    "    day  = input(\"Ingrese el día de la semana: \")\n",
    "    \n",
    "    if (day == \"sabado\") or (day==\"viernes\"): \n",
    "        print(\"puedes pasar\", name)\n",
    "    else:\n",
    "        print(\"No es sábado ni viernes\", name)\n",
    "\n",
    "else:\n",
    "    print(\"Menor de 15\")"
   ]
  },
  {
   "cell_type": "markdown",
   "metadata": {},
   "source": [
    "#### Condicionales Encadenados"
   ]
  },
  {
   "cell_type": "code",
   "execution_count": 23,
   "metadata": {},
   "outputs": [
    {
     "name": "stdout",
     "output_type": "stream",
     "text": [
      "dia de la semana no valido\n"
     ]
    }
   ],
   "source": [
    "# condicional simple\n",
    "\n",
    "# name = input(\"Ingrese su nombre: \")\n",
    "# age  = int (input (\"Ingrese su edad: \"))\n",
    "# age  = int(age)\n",
    "\n",
    "day = input(\"Ingrese el día de la semana: \")\n",
    "\n",
    "if day == \"lunes\":\n",
    "    print(\"Voy al cine\")\n",
    "\n",
    "elif day == \"martes\":\n",
    "    print(\"Voy al gym\")\n",
    "\n",
    "elif day == \"miercoles\":\n",
    "    print(\"Voy al mercado\")\n",
    "\n",
    "elif day == \"jueves\":\n",
    "    print(\"Voy al padel\")\n",
    "\n",
    "elif day == \"viernes\":\n",
    "    print(\"Voy de farra\")\n",
    "\n",
    "else:\n",
    "    print(\"Fin de Semana\")\n",
    "\n"
   ]
  },
  {
   "cell_type": "markdown",
   "metadata": {},
   "source": [
    "#### Ciclos Finitos -> for"
   ]
  }
 ],
 "metadata": {
  "kernelspec": {
   "display_name": "Python 3",
   "language": "python",
   "name": "python3"
  },
  "language_info": {
   "codemirror_mode": {
    "name": "ipython",
    "version": 3
   },
   "file_extension": ".py",
   "mimetype": "text/x-python",
   "name": "python",
   "nbconvert_exporter": "python",
   "pygments_lexer": "ipython3",
   "version": "3.12.5"
  }
 },
 "nbformat": 4,
 "nbformat_minor": 2
}
